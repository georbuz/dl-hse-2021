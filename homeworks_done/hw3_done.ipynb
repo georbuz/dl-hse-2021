{
 "cells": [
  {
   "cell_type": "markdown",
   "metadata": {
    "id": "zK7OsUEUnovv"
   },
   "source": [
    "# NN training\n",
    "\n",
    "[![Open In Colab](https://colab.research.google.com/assets/colab-badge.svg)](https://colab.research.google.com/github/m12sl/dl-hse-2021/blob/master/03-training/homework.ipynb)\n",
    "\n",
    "В этой тетрадке мы решим нашу первую серьезную задачу - [Imagenette](https://github.com/fastai/imagenette#imagenette-1) \n",
    "(сабсет ImageNet) и поиграем с подбором гиперпараметров.\n",
    "\n",
    "**Всегда поможет:**\n",
    "\n",
    "* [PyTorch docs](https://pytorch.org/docs/stable/index.html)"
   ]
  },
  {
   "cell_type": "code",
   "execution_count": 125,
   "metadata": {
    "colab": {
     "base_uri": "https://localhost:8080/"
    },
    "id": "5vDt9DuPnowC",
    "outputId": "8dd72d24-3d7f-4a05-ac71-5fc2d60f9e70"
   },
   "outputs": [
    {
     "name": "stdout",
     "output_type": "stream",
     "text": [
      "The tensorboard extension is already loaded. To reload it, use:\n",
      "  %reload_ext tensorboard\n"
     ]
    }
   ],
   "source": [
    "from copy import deepcopy\n",
    "\n",
    "from tqdm import tqdm\n",
    "import numpy as np\n",
    "import os\n",
    "from collections import defaultdict\n",
    "import cv2\n",
    "import torch\n",
    "import torch.nn as nn\n",
    "import torch.nn.functional as F\n",
    "from torch.utils.data import Dataset, DataLoader\n",
    "from torch.utils.tensorboard import SummaryWriter\n",
    "from torchvision.models import resnet18\n",
    "from sklearn.metrics import confusion_matrix\n",
    "import seaborn as sns\n",
    "import matplotlib.pyplot as plt\n",
    "\n",
    "np.random.seed(0)\n",
    "torch.manual_seed(0)\n",
    "torch.set_deterministic(True)\n",
    "\n",
    "%matplotlib inline\n",
    "%load_ext tensorboard"
   ]
  },
  {
   "cell_type": "markdown",
   "metadata": {
    "id": "-rc9B0rgnowJ"
   },
   "source": [
    "# Data\n",
    "\n",
    "Для обучения мы будем использовать облегченную версию датасета Imagenette с минимальной стороной равной 160 пикселям.  \n",
    "Следующие две ячейки должны скачать и распаковать данные, после чего в текущей директории появится \n",
    "директория `imagenette2-160` со следующей структурой:\n",
    "\n",
    "- ./imagenette2-160/\n",
    "    - train/\n",
    "        - {CLASS_ID}/{IMAGE_ID}.jpeg\n",
    "    - val/\n",
    "        - {CLASS_ID}/{IMAGE_ID}.jpeg"
   ]
  },
  {
   "cell_type": "code",
   "execution_count": 2,
   "metadata": {
    "colab": {
     "base_uri": "https://localhost:8080/"
    },
    "id": "QWQgrVJfnowM",
    "outputId": "ccaf0b85-f0b2-4869-cb4e-41117932539c"
   },
   "outputs": [
    {
     "name": "stdout",
     "output_type": "stream",
     "text": [
      "--2021-02-21 12:15:10--  https://s3.amazonaws.com/fast-ai-imageclas/imagenette2-160.tgz\n",
      "Resolving s3.amazonaws.com (s3.amazonaws.com)... 52.217.46.134\n",
      "Connecting to s3.amazonaws.com (s3.amazonaws.com)|52.217.46.134|:443... connected.\n",
      "HTTP request sent, awaiting response... 200 OK\n",
      "Length: 99003388 (94M) [application/x-tar]\n",
      "Saving to: ‘imagenette2-160.tgz’\n",
      "\n",
      "imagenette2-160.tgz 100%[===================>]  94.42M  36.9MB/s    in 2.6s    \n",
      "\n",
      "2021-02-21 12:15:12 (36.9 MB/s) - ‘imagenette2-160.tgz’ saved [99003388/99003388]\n",
      "\n"
     ]
    }
   ],
   "source": [
    "# download tar archive\n",
    "\n",
    "! wget https://s3.amazonaws.com/fast-ai-imageclas/imagenette2-160.tgz"
   ]
  },
  {
   "cell_type": "code",
   "execution_count": 3,
   "metadata": {
    "id": "ZVRC9QgQnowP"
   },
   "outputs": [],
   "source": [
    "# extract files from archive\n",
    "\n",
    "! tar -zxf imagenette2-160.tgz"
   ]
  },
  {
   "cell_type": "markdown",
   "metadata": {
    "id": "LAA0X1jBnowT"
   },
   "source": [
    "## Задание 1\n",
    "**(0.2 балла)** Напишите класс `ImagenetteDataset`, который мы будем использовать для обучения сетки.  \n",
    "\n",
    "*Hints:* \n",
    "\n",
    "1. Нужно унаследоваться от класса `Dataset` и переопределить методы `__getitem__` и `__len__`. \n",
    "Первый должен возвращать картинку и ее лейбл, а второй количество примеров в датасете.\n",
    "(На самом деле второй метод не обязателен для самого датасета, но он необходим для\n",
    "[семплера](https://pytorch.org/docs/stable/data.html#torch.utils.data.RandomSampler),\n",
    "который используется даталоадером)\n",
    "(см. [PyTorch docs](https://pytorch.org/docs/stable/data.html#torch.utils.data.Dataset),\n",
    "[PyTorch tutorual](https://pytorch.org/tutorials/recipes/recipes/custom_dataset_transforms_loader.html?highlight=dataset)).\n",
    "1. Для работы с картинками лучше использовать OpenCV: `pip install opencv-python-headless`.\n",
    "1. Обратите внимание на то, что возвращает функция `cv2.imread`. \n",
    "Какой порядок каналов в полученном массиве?\n",
    "1. В батче не может быть тензоров разного размера."
   ]
  },
  {
   "cell_type": "code",
   "execution_count": 4,
   "metadata": {
    "id": "wsGx4uxenowX"
   },
   "outputs": [],
   "source": [
    "class ImagenetteDataset(Dataset):\n",
    "    def __init__(self, train=True):\n",
    "        self.data = []\n",
    "        self._path = \"imagenette2-160/\"\n",
    "        self._path += \"train/\" if train else \"val/\"\n",
    "        self._label_mapper = {\n",
    "            label: i for i, label in enumerate(\n",
    "                [x for x in os.listdir(self._path) if \".DS_Store\" not in x])  # какой-то DS_Store\n",
    "        }\n",
    "        for dir in [x for x in os.listdir(self._path) if \".DS_Store\" not in x]:\n",
    "            path = self._path + dir + \"/\"\n",
    "            for sample in os.listdir(path):\n",
    "                self.data.append((path + sample, self._label_mapper[dir]))\n",
    "\n",
    "    def __len__(self):\n",
    "        return len(self.data)\n",
    "    \n",
    "    def __getitem__(self, index):\n",
    "        img, label = self.data[index]\n",
    "        img = cv2.imread(img) / 255.\n",
    "        img = cv2.resize(img, (160, 160))\n",
    "        img = torch.Tensor(np.transpose(img, (2, 0, 1)))\n",
    "        return dict(\n",
    "            sample=img,\n",
    "            label=label\n",
    "        )"
   ]
  },
  {
   "cell_type": "code",
   "execution_count": 5,
   "metadata": {
    "colab": {
     "base_uri": "https://localhost:8080/"
    },
    "id": "8vZ7YBR9nowZ",
    "outputId": "451d7769-e831-4a49-d6d9-48624de9d423"
   },
   "outputs": [
    {
     "name": "stdout",
     "output_type": "stream",
     "text": [
      "sample tensor([[[1.0000, 1.0000, 1.0000,  ..., 0.9968, 1.0000, 0.9542],\n",
      "         [1.0000, 1.0000, 1.0000,  ..., 0.9968, 1.0000, 0.9509],\n",
      "         [0.9961, 0.9961, 0.9961,  ..., 0.9968, 1.0000, 0.9509],\n",
      "         ...,\n",
      "         [0.2359, 0.2373, 0.2223,  ..., 0.2320, 0.2313, 0.2307],\n",
      "         [0.2294, 0.2373, 0.2223,  ..., 0.2007, 0.1980, 0.1922],\n",
      "         [0.2150, 0.2333, 0.2256,  ..., 0.1778, 0.1902, 0.2092]],\n",
      "\n",
      "        [[1.0000, 1.0000, 1.0000,  ..., 0.9968, 1.0000, 0.9542],\n",
      "         [1.0000, 1.0000, 1.0000,  ..., 0.9968, 1.0000, 0.9509],\n",
      "         [0.9961, 0.9961, 0.9961,  ..., 0.9968, 1.0000, 0.9509],\n",
      "         ...,\n",
      "         [0.5850, 0.5863, 0.5713,  ..., 0.5876, 0.5843, 0.5810],\n",
      "         [0.5784, 0.5863, 0.5713,  ..., 0.5640, 0.5588, 0.5503],\n",
      "         [0.5640, 0.5823, 0.5746,  ..., 0.5425, 0.5549, 0.5739]],\n",
      "\n",
      "        [[1.0000, 1.0000, 1.0000,  ..., 0.9968, 1.0000, 0.9542],\n",
      "         [1.0000, 1.0000, 1.0000,  ..., 0.9968, 1.0000, 0.9509],\n",
      "         [0.9961, 0.9961, 0.9961,  ..., 0.9968, 1.0000, 0.9509],\n",
      "         ...,\n",
      "         [0.5065, 0.5079, 0.4929,  ..., 0.5059, 0.5039, 0.5020],\n",
      "         [0.5000, 0.5079, 0.4929,  ..., 0.4817, 0.4765, 0.4680],\n",
      "         [0.4856, 0.5039, 0.4961,  ..., 0.4602, 0.4726, 0.4915]]])\n",
      "label 0\n"
     ]
    }
   ],
   "source": [
    "imagenet = ImagenetteDataset()\n",
    "\n",
    "for k, v in imagenet[0].items():\n",
    "    print(k, v)"
   ]
  },
  {
   "cell_type": "code",
   "execution_count": 6,
   "metadata": {
    "colab": {
     "base_uri": "https://localhost:8080/"
    },
    "id": "vegiKhHmBZqc",
    "outputId": "b1c0fa01-b0f9-4989-8b51-77f4dbdd6043"
   },
   "outputs": [
    {
     "name": "stdout",
     "output_type": "stream",
     "text": [
      "sample torch.Size([4, 3, 160, 160])\n",
      "label torch.Size([4])\n"
     ]
    }
   ],
   "source": [
    "imagenet_loader = DataLoader(imagenet, batch_size=4)\n",
    "for batch in imagenet_loader:\n",
    "    for k, v in batch.items():\n",
    "        print(k, v.shape)\n",
    "    break"
   ]
  },
  {
   "cell_type": "markdown",
   "metadata": {
    "id": "pX8mNo8vnowb"
   },
   "source": [
    "## Задание 2\n",
    "**(0.1 балла)** Перенесите свой класс `Trainer` и создайте его инстанс.\n",
    "\n",
    "*Hints:*\n",
    "\n",
    "1. Можете взять любую архитектуру сети из предыдущей домашки/семинара или из `torchvision.models`: \n",
    "[link](https://pytorch.org/vision/stable/models.html#classification)"
   ]
  },
  {
   "cell_type": "code",
   "execution_count": 34,
   "metadata": {
    "id": "Snr1K8omnowe"
   },
   "outputs": [],
   "source": [
    "class Trainer:\n",
    "    def __init__(self, model: nn.Module,\n",
    "                 optimizer,\n",
    "                 train_dataset: Dataset,\n",
    "                 val_dataset: Dataset,\n",
    "                 tboard_log_dir: str = './tboard_logs/',\n",
    "                 batch_size: int = 128):\n",
    "        self.model = model\n",
    "        self.optimizer = optimizer\n",
    "        self.train_dataset = train_dataset\n",
    "        self.val_dataset = val_dataset\n",
    "        self.batch_size = batch_size\n",
    "\n",
    "        self.device = 'cpu'\n",
    "        if torch.cuda.is_available():\n",
    "            self.device = torch.cuda.current_device()\n",
    "            self.model = self.model.to(self.device)\n",
    "\n",
    "        self.global_step = 0\n",
    "        self.train_writer = SummaryWriter(log_dir=tboard_log_dir + \"train/\")\n",
    "        self.val_writer = SummaryWriter(log_dir=tboard_log_dir + \"val/\")\n",
    "        self.cache = self.cache_states()\n",
    "\n",
    "    def save_checkpoint(self, path):\n",
    "        torch.save(self.model.state_dict(), path)\n",
    "\n",
    "    def train(self, num_epochs: int):\n",
    "        model = self.model\n",
    "        optimizer = self.optimizer\n",
    "\n",
    "        train_loader = DataLoader(self.train_dataset, shuffle=True, pin_memory=True, batch_size=self.batch_size)\n",
    "        val_loader = DataLoader(self.val_dataset, shuffle=False, pin_memory=True, batch_size=self.batch_size)\n",
    "        best_loss = float('inf') # +inf\n",
    "\n",
    "        for epoch in range(num_epochs):\n",
    "            model.train()\n",
    "            for batch in tqdm(train_loader):\n",
    "                batch = {k: v.to(self.device) for k, v in batch.items()}\n",
    "                loss, details = model.compute_all(batch)\n",
    "\n",
    "                optimizer.zero_grad()\n",
    "                loss.backward()\n",
    "                optimizer.step()\n",
    "                \n",
    "                all_grads = []\n",
    "                for name, p in model.named_parameters():\n",
    "                    if not p.requires_grad:\n",
    "                        continue\n",
    "                    v = np.linalg.norm(p.grad.data.cpu().numpy())\n",
    "                    all_grads += [v]\n",
    "                    if \"weight\" in name:\n",
    "                        self.train_writer.add_scalar(f\"grad_{name}\", v, global_step=self.global_step)\n",
    "                        \n",
    "                self.train_writer.add_scalar(f\"grads\", np.mean(all_grads), global_step=self.global_step)\n",
    "                model.post_train_batch()\n",
    "                for k, v in details.items():\n",
    "                    self.train_writer.add_scalar(k, v, global_step=self.global_step)\n",
    "                self.global_step += 1\n",
    "\n",
    "            model.eval()\n",
    "            val_losses = []\n",
    "            \n",
    "            val_logs = defaultdict(list)\n",
    "            for batch in tqdm(val_loader):\n",
    "                batch = {k: v.to(self.device) for k, v in batch.items()}\n",
    "                loss, details = model.compute_all(batch)\n",
    "                val_losses.append(loss.item())\n",
    "                for k, v in details.items():\n",
    "                    val_logs[k].append(v)\n",
    "                    \n",
    "            val_logs = {k: np.mean(v) for k, v in val_logs.items()}\n",
    "            for k, v in val_logs.items():\n",
    "                self.val_writer.add_scalar(k, v, global_step=self.global_step)\n",
    "\n",
    "            val_loss = np.mean(val_losses)\n",
    "            model.post_val_stage(val_loss)\n",
    "\n",
    "            if val_loss < best_loss:\n",
    "                self.save_checkpoint(\"./best_checkpoint.pth\")\n",
    "                best_loss = val_loss\n",
    "\n",
    "    def find_lr(self, min_lr: float = 1e-6,\n",
    "                max_lr: float = 1e-1,\n",
    "                num_lrs: int = 20,\n",
    "                smooth_beta: float = 0.8) -> dict:\n",
    "        # exp((1-t) * log(left) + t * log(right))\n",
    "        lrs = np.geomspace(start=min_lr, stop=max_lr, num=num_lrs)\n",
    "        logs = {'lr': [], 'loss': [], 'avg_loss': []}\n",
    "        avg_loss = None\n",
    "        model, optimizer = self.model, self.optimizer\n",
    "        train_loader = DataLoader(self.train_dataset, shuffle=True, batch_size=self.batch_size)\n",
    "\n",
    "        model.train()\n",
    "        for lr, batch in tqdm(zip(lrs, train_loader), desc='finding LR', total=num_lrs):\n",
    "            # apply new lr\n",
    "            for param_group in self.optimizer.param_groups:\n",
    "                param_group['lr'] = lr\n",
    "\n",
    "            # train step\n",
    "            batch = {k: v.to(self.device) for k, v in batch.items()}\n",
    "            loss, details = model.compute_all(batch)\n",
    "            optimizer.zero_grad()\n",
    "            loss.backward()\n",
    "            optimizer.step()\n",
    "\n",
    "            # calculate smoothed loss\n",
    "            if avg_loss is None:\n",
    "                avg_loss = loss\n",
    "            else:\n",
    "                avg_loss = smooth_beta * avg_loss + (1 - smooth_beta) * loss\n",
    "\n",
    "            # store values into logs\n",
    "            logs['lr'].append(lr)\n",
    "            logs['avg_loss'].append(avg_loss)\n",
    "            logs['loss'].append(loss)\n",
    "\n",
    "        logs.update({key: np.array(val) for key, val in logs.items()})\n",
    "        self.rollback_states()\n",
    "\n",
    "        return logs\n",
    "\n",
    "    def cache_states(self):\n",
    "        cache_dict = {'model_state': deepcopy(self.model.state_dict()),\n",
    "                      'optimizer_state': deepcopy(self.optimizer.state_dict())}\n",
    "\n",
    "        return cache_dict\n",
    "\n",
    "    def rollback_states(self):\n",
    "        self.model.load_state_dict(self.cache['model_state'])\n",
    "        self.optimizer.load_state_dict(self.cache['optimizer_state'])"
   ]
  },
  {
   "cell_type": "code",
   "execution_count": 8,
   "metadata": {
    "id": "w0bcR0vaDW0K"
   },
   "outputs": [],
   "source": [
    "class VeryModel(nn.Module):\n",
    "    def __init__(self, lr_scheduler=None, lr_scheduler_type=None,\n",
    "                 load_pretrained=True, freeze_body=False):\n",
    "        super().__init__()\n",
    "        self.lr_scheduler = lr_scheduler\n",
    "        self.lr_scheduler_type = lr_scheduler_type\n",
    "        if lr_scheduler_type not in [None, 'per_batch', 'per_epoch']:\n",
    "            raise ValueError(\"lr_scheduler_type must be one of: None, 'per_batch', 'per_epoch'. \"\n",
    "                             f\"Not: {lr_scheduler_type}\")\n",
    "        \n",
    "        net = resnet18(pretrained=load_pretrained)\n",
    "\n",
    "        if freeze_body:\n",
    "            for param in net.parameters():\n",
    "                param.requires_grad = False\n",
    "                \n",
    "        net.fc = nn.Linear(in_features=512, out_features=10)\n",
    "        self.inner = net\n",
    "\n",
    "    def forward(self, x):\n",
    "        return self.inner(x)\n",
    "\n",
    "    def compute_all(self, batch):  # удобно сделать функцию, в которой вычисляется лосс по пришедшему батчу\n",
    "        x = batch['sample']\n",
    "        y = batch['label']\n",
    "        logits = self.inner(x)\n",
    "        \n",
    "        F.softmax(logits).argmax() == logits.argmax()\n",
    "\n",
    "        loss = F.cross_entropy(logits, y) # весь выч граф\n",
    "        acc = (logits.argmax(axis=1) == y).float().mean().cpu().numpy()\n",
    "        metrics = dict(acc=acc, loss=loss.item())\n",
    "\n",
    "        return loss, metrics\n",
    "\n",
    "    def post_train_batch(self):\n",
    "        # called after every train batch\n",
    "        if self.lr_scheduler is not None and self.lr_scheduler_type == 'per_batch':\n",
    "            self.lr_scheduler.step()\n",
    "\n",
    "    def post_val_batch(self):\n",
    "        pass\n",
    "\n",
    "    def post_train_stage(self):\n",
    "        pass\n",
    "\n",
    "    def post_val_stage(self, val_loss):\n",
    "        # called after every end of val stage (equals to epoch end)\n",
    "        if self.lr_scheduler is not None and self.lr_scheduler_type == 'per_epoch':\n",
    "            self.lr_scheduler.step(val_loss)"
   ]
  },
  {
   "cell_type": "code",
   "execution_count": 9,
   "metadata": {
    "colab": {
     "base_uri": "https://localhost:8080/",
     "height": 86,
     "referenced_widgets": [
      "24ed7a9139604fcd82aad659ae817e5d",
      "6ef38eeac5e44a8082b2068d51d94757",
      "14686fb946e343c09b0f24be2a776511",
      "0e8e57b0e87445c99c39f80a2f061802",
      "b7fa14c4f683456bad48a942206392e0",
      "fed5849b257b4dbaa5ea288b59e47094",
      "1158a101d7fd4a30a4e91e5be51c4d52",
      "65d03403338e4bd0a5dd36b81a77c95a"
     ]
    },
    "id": "Lz96vPHMDyxW",
    "outputId": "52e5a825-6ccc-4a8c-ff7c-43384cda286e"
   },
   "outputs": [
    {
     "name": "stderr",
     "output_type": "stream",
     "text": [
      "Downloading: \"https://download.pytorch.org/models/resnet18-5c106cde.pth\" to /root/.cache/torch/hub/checkpoints/resnet18-5c106cde.pth\n"
     ]
    },
    {
     "data": {
      "application/vnd.jupyter.widget-view+json": {
       "model_id": "24ed7a9139604fcd82aad659ae817e5d",
       "version_major": 2,
       "version_minor": 0
      },
      "text/plain": [
       "HBox(children=(FloatProgress(value=0.0, max=46827520.0), HTML(value='')))"
      ]
     },
     "metadata": {
      "tags": []
     },
     "output_type": "display_data"
    },
    {
     "name": "stdout",
     "output_type": "stream",
     "text": [
      "\n"
     ]
    }
   ],
   "source": [
    "model = VeryModel()\n",
    "opt = torch.optim.SGD(model.parameters(), lr=0.2)\n",
    "trainset = ImagenetteDataset(train=True)\n",
    "valset = ImagenetteDataset(train=False)\n",
    "\n",
    "trainer = Trainer(model, opt, trainset, valset, batch_size=128)"
   ]
  },
  {
   "cell_type": "markdown",
   "metadata": {
    "id": "xAAYlNrNnowi"
   },
   "source": [
    "## Задание 3\n",
    "**(0.1 балла)** Проведите LR Range Test и выберите LR в оптимальных границах.\n",
    "\n",
    "*Requirement:* график в осях LR - loss должен быть в аутпуте ячейки."
   ]
  },
  {
   "cell_type": "code",
   "execution_count": 10,
   "metadata": {
    "colab": {
     "base_uri": "https://localhost:8080/"
    },
    "id": "Xa63G_Crnowp",
    "outputId": "bac06232-ea71-4e43-9d1a-81c03e594437"
   },
   "outputs": [
    {
     "name": "stderr",
     "output_type": "stream",
     "text": [
      "finding LR:   0%|          | 0/70 [00:00<?, ?it/s]/usr/local/lib/python3.6/dist-packages/ipykernel_launcher.py:28: UserWarning: Implicit dimension choice for softmax has been deprecated. Change the call to include dim=X as an argument.\n",
      "finding LR: 100%|██████████| 70/70 [00:17<00:00,  3.97it/s]\n"
     ]
    }
   ],
   "source": [
    "logs = trainer.find_lr(min_lr=1e-4, max_lr=0.3, num_lrs=70)"
   ]
  },
  {
   "cell_type": "code",
   "execution_count": 11,
   "metadata": {
    "colab": {
     "base_uri": "https://localhost:8080/",
     "height": 283
    },
    "id": "upHK6U6lENHJ",
    "outputId": "8a52d2f8-2024-4585-92f3-9597c1b2edba"
   },
   "outputs": [
    {
     "data": {
      "image/png": "[encoded data removed]",
      "text/plain": [
       "<Figure size 432x288 with 1 Axes>"
      ]
     },
     "metadata": {
      "needs_background": "light",
      "tags": []
     },
     "output_type": "display_data"
    }
   ],
   "source": [
    "plt.grid(True)\n",
    "plt.plot(logs[\"lr\"], logs[\"avg_loss\"])\n",
    "plt.xscale(\"log\")\n",
    "plt.ylabel(\"Average loss\")\n",
    "plt.xlabel(\"log(LR)\")\n",
    "plt.show()"
   ]
  },
  {
   "cell_type": "code",
   "execution_count": 12,
   "metadata": {
    "id": "Z2AMtINtGKLP"
   },
   "outputs": [],
   "source": [
    "LEARNING_RATE = 1e-2"
   ]
  },
  {
   "cell_type": "markdown",
   "metadata": {
    "id": "-HnGyJtpnowr"
   },
   "source": [
    "## Задание 4\n",
    "**(0.2 балла)** Обучите сеть с выбранным LR. Остальные гиперпараметры выберите по своему усмотрению.\n",
    "\n",
    "*Requirements:*\n",
    "1. Логи экспериментов должен быть в отдельных папках, чтобы их можно было сравнить в тензорборде\n",
    "(см. аргумент `log_dir` в [docs](https://pytorch.org/docs/stable/tensorboard.html#torch.utils.tensorboard.writer.SummaryWriter)).\n",
    "1. Метрика `Accuracy`.\n",
    "1. На этапе валидации метрика должна считаться по всем валидационным объектам, а не отдельно по каждому батчу. \n",
    "В тензорборде после валидации должна появиться одна точка."
   ]
  },
  {
   "cell_type": "code",
   "execution_count": 13,
   "metadata": {
    "id": "YDWD-6ZBnowr"
   },
   "outputs": [],
   "source": [
    "model = VeryModel()\n",
    "opt = torch.optim.SGD(model.parameters(), lr=LEARNING_RATE)\n",
    "\n",
    "trainer = Trainer(model, opt, trainset, valset, batch_size=128, \n",
    "                  tboard_log_dir = \"./resnet/\")"
   ]
  },
  {
   "cell_type": "code",
   "execution_count": 14,
   "metadata": {
    "colab": {
     "base_uri": "https://localhost:8080/"
    },
    "id": "jcz_wA8WHXV_",
    "outputId": "ee83c638-887a-4311-dfaa-20b1174b1ce3"
   },
   "outputs": [
    {
     "name": "stderr",
     "output_type": "stream",
     "text": [
      "  0%|          | 0/74 [00:00<?, ?it/s]/usr/local/lib/python3.6/dist-packages/ipykernel_launcher.py:28: UserWarning: Implicit dimension choice for softmax has been deprecated. Change the call to include dim=X as an argument.\n",
      "100%|██████████| 74/74 [00:33<00:00,  2.20it/s]\n",
      "100%|██████████| 31/31 [00:07<00:00,  4.00it/s]\n",
      "100%|██████████| 74/74 [00:34<00:00,  2.14it/s]\n",
      "100%|██████████| 31/31 [00:07<00:00,  4.10it/s]\n",
      "100%|██████████| 74/74 [00:34<00:00,  2.17it/s]\n",
      "100%|██████████| 31/31 [00:07<00:00,  4.06it/s]\n",
      "100%|██████████| 74/74 [00:34<00:00,  2.15it/s]\n",
      "100%|██████████| 31/31 [00:07<00:00,  4.12it/s]\n",
      "100%|██████████| 74/74 [00:33<00:00,  2.18it/s]\n",
      "100%|██████████| 31/31 [00:07<00:00,  4.05it/s]\n",
      "100%|██████████| 74/74 [00:34<00:00,  2.17it/s]\n",
      "100%|██████████| 31/31 [00:07<00:00,  4.03it/s]\n",
      "100%|██████████| 74/74 [00:34<00:00,  2.17it/s]\n",
      "100%|██████████| 31/31 [00:07<00:00,  3.98it/s]\n",
      "100%|██████████| 74/74 [00:34<00:00,  2.16it/s]\n",
      "100%|██████████| 31/31 [00:07<00:00,  3.94it/s]\n",
      "100%|██████████| 74/74 [00:34<00:00,  2.16it/s]\n",
      "100%|██████████| 31/31 [00:07<00:00,  4.03it/s]\n",
      "100%|██████████| 74/74 [00:34<00:00,  2.16it/s]\n",
      "100%|██████████| 31/31 [00:07<00:00,  4.04it/s]\n"
     ]
    }
   ],
   "source": [
    "trainer.train(10)"
   ]
  },
  {
   "cell_type": "code",
   "execution_count": 134,
   "metadata": {
    "id": "yG10cJsUHZUO"
   },
   "outputs": [],
   "source": [
    "# %tensorboard --logdir ./resnet"
   ]
  },
  {
   "cell_type": "markdown",
   "metadata": {
    "id": "0eqx--Itnows"
   },
   "source": [
    "## Задание 5\n",
    "**(0.4+ балла)** Попробуйте различные гиперпараметры при обучении. Что дает набольший эффект?  \n",
    "За каждый эксперимент с гиперпараметром из списка дается 0.1 балл:\n",
    "\n",
    "1. Optimizer: adam, sgd, etc.\n",
    "1. Batch size.\n",
    "1. LR scheduler.\n",
    "1. Freeze weights. Если вы используете предобученную сеть, то попробуйте заморозить тушку (body) и обучать только голову.\n",
    "1. Weight initialization: zeros, ones, normal, uniform, etc.\n",
    "\n",
    "*Requirement:* сделайте скриншот тензорборда (несколько, если считаете нужным) с кривыми обучения\n",
    "(лоссы/метрики на трейне/валидации) проведенных экспериментов и приложите вместе с готовым ноутбуком в anytask.\n",
    "Из скриншота должно быть понятно в чем заключался эксперимент и как проходило обучение.\n",
    "\n",
    "*Hint 1:* не меняйте несколько гиперпараметров в одном эксперименте - так непонятно какой из них сыграл.  \n",
    "*Hint 2:* для заморозки весов, нужно пробежать по параметрам и поставить флаг `param.requires_grad = False` \n",
    "(см. [PyTorch discuss](https://discuss.pytorch.org/t/how-the-pytorch-freeze-network-in-some-layers-only-the-rest-of-the-training/7088/2)).  \n",
    "*Hint 3:* для инициализации придется итерироваться по параметрам. \n",
    "Менять их значения можно с помощью уже готовых функций: [PyTorch docs](https://pytorch.org/docs/stable/nn.init.html?highlight=init)."
   ]
  },
  {
   "cell_type": "markdown",
   "metadata": {
    "id": "JPZjXDvnhCQk"
   },
   "source": [
    "#### 1. Выбор оптимизатора\n"
   ]
  },
  {
   "cell_type": "code",
   "execution_count": 16,
   "metadata": {
    "colab": {
     "base_uri": "https://localhost:8080/"
    },
    "id": "vu0gecLZnowu",
    "outputId": "fda895b1-6fd6-473c-de3a-0a36f6d9636b"
   },
   "outputs": [
    {
     "name": "stderr",
     "output_type": "stream",
     "text": [
      "  0%|          | 0/74 [00:00<?, ?it/s]/usr/local/lib/python3.6/dist-packages/ipykernel_launcher.py:28: UserWarning: Implicit dimension choice for softmax has been deprecated. Change the call to include dim=X as an argument.\n",
      "100%|██████████| 74/74 [00:34<00:00,  2.13it/s]\n",
      "100%|██████████| 31/31 [00:07<00:00,  3.99it/s]\n",
      "100%|██████████| 74/74 [00:34<00:00,  2.16it/s]\n",
      "100%|██████████| 31/31 [00:07<00:00,  3.98it/s]\n",
      "100%|██████████| 74/74 [00:34<00:00,  2.13it/s]\n",
      "100%|██████████| 31/31 [00:07<00:00,  4.04it/s]\n",
      "100%|██████████| 74/74 [00:34<00:00,  2.16it/s]\n",
      "100%|██████████| 31/31 [00:07<00:00,  4.00it/s]\n",
      "100%|██████████| 74/74 [00:34<00:00,  2.16it/s]\n",
      "100%|██████████| 31/31 [00:07<00:00,  4.03it/s]\n",
      "100%|██████████| 74/74 [00:34<00:00,  2.15it/s]\n",
      "100%|██████████| 31/31 [00:07<00:00,  3.98it/s]\n",
      "100%|██████████| 74/74 [00:34<00:00,  2.16it/s]\n",
      "100%|██████████| 31/31 [00:07<00:00,  4.01it/s]\n",
      "100%|██████████| 74/74 [00:34<00:00,  2.15it/s]\n",
      "100%|██████████| 31/31 [00:07<00:00,  4.00it/s]\n",
      "100%|██████████| 74/74 [00:34<00:00,  2.16it/s]\n",
      "100%|██████████| 31/31 [00:07<00:00,  4.03it/s]\n",
      "100%|██████████| 74/74 [00:34<00:00,  2.15it/s]\n",
      "100%|██████████| 31/31 [00:07<00:00,  3.96it/s]\n"
     ]
    }
   ],
   "source": [
    "torch.cuda.empty_cache()\n",
    "opt_test = VeryModel()\n",
    "sgd = torch.optim.SGD(opt_test.parameters(), lr=LEARNING_RATE)\n",
    "opt_trainer = Trainer(opt_test, sgd, trainset, valset, batch_size=128, \n",
    "                  tboard_log_dir = \"./optimizer_test/\" + \"SGD_\")\n",
    "opt_trainer.train(10)"
   ]
  },
  {
   "cell_type": "code",
   "execution_count": 17,
   "metadata": {
    "colab": {
     "base_uri": "https://localhost:8080/"
    },
    "id": "qxAIBN9eXPNf",
    "outputId": "ce5d3a95-05b9-4970-d3ba-ee9447923e89"
   },
   "outputs": [
    {
     "name": "stderr",
     "output_type": "stream",
     "text": [
      "  0%|          | 0/74 [00:00<?, ?it/s]/usr/local/lib/python3.6/dist-packages/ipykernel_launcher.py:28: UserWarning: Implicit dimension choice for softmax has been deprecated. Change the call to include dim=X as an argument.\n",
      "100%|██████████| 74/74 [00:34<00:00,  2.15it/s]\n",
      "100%|██████████| 31/31 [00:07<00:00,  4.04it/s]\n",
      "100%|██████████| 74/74 [00:34<00:00,  2.15it/s]\n",
      "100%|██████████| 31/31 [00:07<00:00,  4.02it/s]\n",
      "100%|██████████| 74/74 [00:34<00:00,  2.14it/s]\n",
      "100%|██████████| 31/31 [00:07<00:00,  3.99it/s]\n",
      "100%|██████████| 74/74 [00:34<00:00,  2.15it/s]\n",
      "100%|██████████| 31/31 [00:07<00:00,  4.02it/s]\n",
      "100%|██████████| 74/74 [00:34<00:00,  2.15it/s]\n",
      "100%|██████████| 31/31 [00:07<00:00,  4.02it/s]\n",
      "100%|██████████| 74/74 [00:34<00:00,  2.15it/s]\n",
      "100%|██████████| 31/31 [00:07<00:00,  4.00it/s]\n",
      "100%|██████████| 74/74 [00:34<00:00,  2.15it/s]\n",
      "100%|██████████| 31/31 [00:07<00:00,  3.95it/s]\n",
      "100%|██████████| 74/74 [00:34<00:00,  2.14it/s]\n",
      "100%|██████████| 31/31 [00:07<00:00,  4.02it/s]\n",
      "100%|██████████| 74/74 [00:34<00:00,  2.15it/s]\n",
      "100%|██████████| 31/31 [00:07<00:00,  4.03it/s]\n",
      "100%|██████████| 74/74 [00:34<00:00,  2.15it/s]\n",
      "100%|██████████| 31/31 [00:07<00:00,  3.99it/s]\n"
     ]
    }
   ],
   "source": [
    "torch.cuda.empty_cache()\n",
    "\n",
    "opt_test = VeryModel()\n",
    "adam = torch.optim.Adam(opt_test.parameters(), lr=LEARNING_RATE)\n",
    "opt_trainer = Trainer(opt_test, adam, trainset, valset, batch_size=128, \n",
    "                  tboard_log_dir = \"./optimizer_test/\" + \"Adam_\")\n",
    "opt_trainer.train(10)"
   ]
  },
  {
   "cell_type": "code",
   "execution_count": 133,
   "metadata": {
    "id": "fW9UTif9jclc"
   },
   "outputs": [],
   "source": [
    "# %tensorboard --logdir ./optimizer_test"
   ]
  },
  {
   "cell_type": "markdown",
   "metadata": {
    "id": "9ShJ4yjAjnWc"
   },
   "source": [
    "#### 2. Выбор размера батча"
   ]
  },
  {
   "cell_type": "code",
   "execution_count": 19,
   "metadata": {
    "colab": {
     "base_uri": "https://localhost:8080/"
    },
    "id": "Le1emjJbjxTW",
    "outputId": "995058c1-1284-47e8-e6bb-4bfa684767d1"
   },
   "outputs": [
    {
     "name": "stderr",
     "output_type": "stream",
     "text": [
      "  0%|          | 0/74 [00:00<?, ?it/s]/usr/local/lib/python3.6/dist-packages/ipykernel_launcher.py:28: UserWarning: Implicit dimension choice for softmax has been deprecated. Change the call to include dim=X as an argument.\n",
      "100%|██████████| 74/74 [00:34<00:00,  2.15it/s]\n",
      "100%|██████████| 31/31 [00:07<00:00,  4.01it/s]\n",
      "100%|██████████| 74/74 [00:34<00:00,  2.15it/s]\n",
      "100%|██████████| 31/31 [00:07<00:00,  4.04it/s]\n",
      "100%|██████████| 74/74 [00:34<00:00,  2.16it/s]\n",
      "100%|██████████| 31/31 [00:07<00:00,  4.08it/s]\n",
      "100%|██████████| 74/74 [00:34<00:00,  2.17it/s]\n",
      "100%|██████████| 31/31 [00:07<00:00,  4.05it/s]\n",
      "100%|██████████| 74/74 [00:34<00:00,  2.16it/s]\n",
      "100%|██████████| 31/31 [00:07<00:00,  4.04it/s]\n",
      "100%|██████████| 74/74 [00:34<00:00,  2.16it/s]\n",
      "100%|██████████| 31/31 [00:07<00:00,  4.05it/s]\n",
      "100%|██████████| 74/74 [00:34<00:00,  2.16it/s]\n",
      "100%|██████████| 31/31 [00:07<00:00,  4.04it/s]\n",
      "100%|██████████| 74/74 [00:34<00:00,  2.16it/s]\n",
      "100%|██████████| 31/31 [00:07<00:00,  4.00it/s]\n",
      "100%|██████████| 74/74 [00:34<00:00,  2.15it/s]\n",
      "100%|██████████| 31/31 [00:07<00:00,  4.07it/s]\n",
      "100%|██████████| 74/74 [00:34<00:00,  2.16it/s]\n",
      "100%|██████████| 31/31 [00:07<00:00,  4.04it/s]\n",
      "100%|██████████| 37/37 [00:34<00:00,  1.09it/s]\n",
      "100%|██████████| 16/16 [00:07<00:00,  2.06it/s]\n",
      "100%|██████████| 37/37 [00:33<00:00,  1.09it/s]\n",
      "100%|██████████| 16/16 [00:07<00:00,  2.04it/s]\n",
      "100%|██████████| 37/37 [00:34<00:00,  1.09it/s]\n",
      "100%|██████████| 16/16 [00:07<00:00,  2.05it/s]\n",
      "100%|██████████| 37/37 [00:33<00:00,  1.09it/s]\n",
      "100%|██████████| 16/16 [00:07<00:00,  2.01it/s]\n",
      "100%|██████████| 37/37 [00:34<00:00,  1.09it/s]\n",
      "100%|██████████| 16/16 [00:07<00:00,  2.03it/s]\n",
      "100%|██████████| 37/37 [00:33<00:00,  1.09it/s]\n",
      "100%|██████████| 16/16 [00:07<00:00,  2.05it/s]\n",
      "100%|██████████| 37/37 [00:33<00:00,  1.09it/s]\n",
      "100%|██████████| 16/16 [00:07<00:00,  2.06it/s]\n",
      "100%|██████████| 37/37 [00:33<00:00,  1.09it/s]\n",
      "100%|██████████| 16/16 [00:07<00:00,  2.03it/s]\n",
      "100%|██████████| 37/37 [00:33<00:00,  1.09it/s]\n",
      "100%|██████████| 16/16 [00:07<00:00,  2.06it/s]\n",
      "100%|██████████| 37/37 [00:34<00:00,  1.09it/s]\n",
      "100%|██████████| 16/16 [00:07<00:00,  2.04it/s]\n",
      "100%|██████████| 19/19 [00:37<00:00,  1.95s/it]\n",
      "100%|██████████| 8/8 [00:09<00:00,  1.14s/it]\n",
      "100%|██████████| 19/19 [00:37<00:00,  1.95s/it]\n",
      "100%|██████████| 8/8 [00:09<00:00,  1.14s/it]\n",
      "100%|██████████| 19/19 [00:36<00:00,  1.94s/it]\n",
      "100%|██████████| 8/8 [00:09<00:00,  1.14s/it]\n",
      "100%|██████████| 19/19 [00:37<00:00,  1.95s/it]\n",
      "100%|██████████| 8/8 [00:09<00:00,  1.14s/it]\n",
      "100%|██████████| 19/19 [00:37<00:00,  1.95s/it]\n",
      "100%|██████████| 8/8 [00:09<00:00,  1.14s/it]\n",
      "100%|██████████| 19/19 [00:37<00:00,  1.95s/it]\n",
      "100%|██████████| 8/8 [00:09<00:00,  1.16s/it]\n",
      "100%|██████████| 19/19 [00:37<00:00,  1.95s/it]\n",
      "100%|██████████| 8/8 [00:09<00:00,  1.15s/it]\n",
      "100%|██████████| 19/19 [00:37<00:00,  1.95s/it]\n",
      "100%|██████████| 8/8 [00:09<00:00,  1.14s/it]\n",
      "100%|██████████| 19/19 [00:36<00:00,  1.94s/it]\n",
      "100%|██████████| 8/8 [00:09<00:00,  1.14s/it]\n",
      "100%|██████████| 19/19 [00:36<00:00,  1.94s/it]\n",
      "100%|██████████| 8/8 [00:09<00:00,  1.14s/it]\n"
     ]
    }
   ],
   "source": [
    "torch.cuda.empty_cache()\n",
    "\n",
    "batch_sizes = [128, 256, 512]\n",
    "\n",
    "for batch in batch_sizes:\n",
    "    batch_test = VeryModel()\n",
    "    opt = torch.optim.SGD(batch_test.parameters(), lr=LEARNING_RATE)\n",
    "    batch_trainer = Trainer(batch_test, opt, trainset, valset, batch_size=batch, \n",
    "                  tboard_log_dir = \"./batch_test/\" + \"batch_\" + str(batch))\n",
    "    batch_trainer.train(10)"
   ]
  },
  {
   "cell_type": "code",
   "execution_count": 132,
   "metadata": {
    "id": "_8mEIeOijk68"
   },
   "outputs": [],
   "source": [
    "# %tensorboard --logdir ./batch_test"
   ]
  },
  {
   "cell_type": "markdown",
   "metadata": {
    "id": "muBQOqM0jrR8"
   },
   "source": [
    "#### 3. LR scheduler"
   ]
  },
  {
   "cell_type": "code",
   "execution_count": 22,
   "metadata": {
    "colab": {
     "base_uri": "https://localhost:8080/"
    },
    "id": "QfCBeltijxkz",
    "outputId": "f69f95db-ab0c-4c9c-a89d-11222017d27a"
   },
   "outputs": [
    {
     "name": "stderr",
     "output_type": "stream",
     "text": [
      "  0%|          | 0/74 [00:00<?, ?it/s]/usr/local/lib/python3.6/dist-packages/ipykernel_launcher.py:28: UserWarning: Implicit dimension choice for softmax has been deprecated. Change the call to include dim=X as an argument.\n",
      "100%|██████████| 74/74 [00:36<00:00,  2.00it/s]\n",
      "100%|██████████| 31/31 [00:08<00:00,  3.78it/s]\n",
      "100%|██████████| 74/74 [00:35<00:00,  2.10it/s]\n",
      "100%|██████████| 31/31 [00:08<00:00,  3.77it/s]\n",
      "100%|██████████| 74/74 [00:35<00:00,  2.09it/s]\n",
      "100%|██████████| 31/31 [00:08<00:00,  3.80it/s]\n",
      "100%|██████████| 74/74 [00:35<00:00,  2.10it/s]\n",
      "100%|██████████| 31/31 [00:08<00:00,  3.79it/s]\n",
      "100%|██████████| 74/74 [00:35<00:00,  2.08it/s]\n",
      "100%|██████████| 31/31 [00:08<00:00,  3.76it/s]\n",
      "100%|██████████| 74/74 [00:35<00:00,  2.10it/s]\n",
      "100%|██████████| 31/31 [00:08<00:00,  3.73it/s]\n",
      "100%|██████████| 74/74 [00:35<00:00,  2.09it/s]\n",
      "100%|██████████| 31/31 [00:08<00:00,  3.80it/s]\n",
      "100%|██████████| 74/74 [00:35<00:00,  2.08it/s]\n",
      "100%|██████████| 31/31 [00:08<00:00,  3.79it/s]\n",
      "100%|██████████| 74/74 [00:35<00:00,  2.09it/s]\n",
      "100%|██████████| 31/31 [00:08<00:00,  3.81it/s]\n",
      "100%|██████████| 74/74 [00:35<00:00,  2.09it/s]\n",
      "100%|██████████| 31/31 [00:08<00:00,  3.79it/s]\n"
     ]
    }
   ],
   "source": [
    "torch.cuda.empty_cache()\n",
    "\n",
    "sched_test = VeryModel()\n",
    "sched_opt = torch.optim.SGD(sched_test.parameters(), lr=LEARNING_RATE)\n",
    "sched_trainer = Trainer(sched_test, sched_opt, trainset, valset, batch_size=128, \n",
    "                  tboard_log_dir = \"./scheduler_test/\" + \"no_sched_\")\n",
    "sched_trainer.train(10)"
   ]
  },
  {
   "cell_type": "code",
   "execution_count": 24,
   "metadata": {
    "colab": {
     "base_uri": "https://localhost:8080/",
     "height": 249
    },
    "id": "1oSphTBGunSC",
    "outputId": "f0cc6747-e42d-4f8e-f86b-e8502b14d873"
   },
   "outputs": [
    {
     "ename": "NameError",
     "evalue": "ignored",
     "output_type": "error",
     "traceback": [
      "\u001b[0;31m---------------------------------------------------------------------------\u001b[0m",
      "\u001b[0;31mNameError\u001b[0m                                 Traceback (most recent call last)",
      "\u001b[0;32m<ipython-input-24-c18d4825888b>\u001b[0m in \u001b[0;36m<module>\u001b[0;34m()\u001b[0m\n\u001b[1;32m      1\u001b[0m \u001b[0mtorch\u001b[0m\u001b[0;34m.\u001b[0m\u001b[0mcuda\u001b[0m\u001b[0;34m.\u001b[0m\u001b[0mempty_cache\u001b[0m\u001b[0;34m(\u001b[0m\u001b[0;34m)\u001b[0m\u001b[0;34m\u001b[0m\u001b[0;34m\u001b[0m\u001b[0m\n\u001b[1;32m      2\u001b[0m \u001b[0;34m\u001b[0m\u001b[0m\n\u001b[0;32m----> 3\u001b[0;31m \u001b[0msched_test\u001b[0m \u001b[0;34m=\u001b[0m \u001b[0mVeryModel\u001b[0m\u001b[0;34m(\u001b[0m\u001b[0mlr_scheduler\u001b[0m\u001b[0;34m=\u001b[0m\u001b[0mlr_scheduler\u001b[0m\u001b[0;34m,\u001b[0m \u001b[0mlr_scheduler_type\u001b[0m\u001b[0;34m=\u001b[0m\u001b[0;34m\"per_epoch\"\u001b[0m\u001b[0;34m)\u001b[0m\u001b[0;34m\u001b[0m\u001b[0;34m\u001b[0m\u001b[0m\n\u001b[0m\u001b[1;32m      4\u001b[0m \u001b[0msched_opt\u001b[0m \u001b[0;34m=\u001b[0m \u001b[0mtorch\u001b[0m\u001b[0;34m.\u001b[0m\u001b[0moptim\u001b[0m\u001b[0;34m.\u001b[0m\u001b[0mSGD\u001b[0m\u001b[0;34m(\u001b[0m\u001b[0msched_test\u001b[0m\u001b[0;34m.\u001b[0m\u001b[0mparameters\u001b[0m\u001b[0;34m(\u001b[0m\u001b[0;34m)\u001b[0m\u001b[0;34m,\u001b[0m \u001b[0mlr\u001b[0m\u001b[0;34m=\u001b[0m\u001b[0mLEARNING_RATE\u001b[0m\u001b[0;34m)\u001b[0m\u001b[0;34m\u001b[0m\u001b[0;34m\u001b[0m\u001b[0m\n\u001b[1;32m      5\u001b[0m \u001b[0mlr_scheduler\u001b[0m \u001b[0;34m=\u001b[0m \u001b[0mtorch\u001b[0m\u001b[0;34m.\u001b[0m\u001b[0moptim\u001b[0m\u001b[0;34m.\u001b[0m\u001b[0mlr_scheduler\u001b[0m\u001b[0;34m.\u001b[0m\u001b[0mExponentialLR\u001b[0m\u001b[0;34m(\u001b[0m\u001b[0moptimizer\u001b[0m\u001b[0;34m=\u001b[0m\u001b[0msched_opt\u001b[0m\u001b[0;34m,\u001b[0m \u001b[0mgamma\u001b[0m\u001b[0;34m=\u001b[0m\u001b[0;36m0.9\u001b[0m\u001b[0;34m)\u001b[0m\u001b[0;34m\u001b[0m\u001b[0;34m\u001b[0m\u001b[0m\n",
      "\u001b[0;31mNameError\u001b[0m: name 'lr_scheduler' is not defined"
     ]
    }
   ],
   "source": [
    "torch.cuda.empty_cache()\n",
    "\n",
    "sched_test = VeryModel(lr_scheduler=lr_scheduler, lr_scheduler_type=\"per_epoch\")\n",
    "sched_opt = torch.optim.SGD(sched_test.parameters(), lr=LEARNING_RATE)\n",
    "lr_scheduler = torch.optim.lr_scheduler.ExponentialLR(optimizer=sched_opt, gamma=0.9)\n",
    "\n",
    "sched_trainer = Trainer(sched_test, sched_opt, trainset, valset, batch_size=128, \n",
    "                  tboard_log_dir = \"./scheduler_test/\" + \"sched_\")\n",
    "sched_trainer.train(10)"
   ]
  },
  {
   "cell_type": "code",
   "execution_count": null,
   "metadata": {
    "id": "C_bE_LaNv2kn"
   },
   "outputs": [],
   "source": [
    "%tensorboard --logdir ./scheduler_test"
   ]
  },
  {
   "cell_type": "markdown",
   "metadata": {
    "id": "qBc5H3bGm5VT"
   },
   "source": [
    "#### 4. Заморозка тушки"
   ]
  },
  {
   "cell_type": "code",
   "execution_count": 35,
   "metadata": {
    "colab": {
     "base_uri": "https://localhost:8080/"
    },
    "id": "x79ViAt_mzXj",
    "outputId": "7f19f650-f6bc-4dfd-d1c6-153f7e18cf76"
   },
   "outputs": [
    {
     "name": "stderr",
     "output_type": "stream",
     "text": [
      "  0%|          | 0/74 [00:00<?, ?it/s]/usr/local/lib/python3.6/dist-packages/ipykernel_launcher.py:28: UserWarning: Implicit dimension choice for softmax has been deprecated. Change the call to include dim=X as an argument.\n",
      "100%|██████████| 74/74 [00:18<00:00,  3.90it/s]\n",
      "100%|██████████| 31/31 [00:07<00:00,  4.02it/s]\n",
      "100%|██████████| 74/74 [00:18<00:00,  3.94it/s]\n",
      "100%|██████████| 31/31 [00:07<00:00,  4.06it/s]\n",
      "100%|██████████| 74/74 [00:18<00:00,  3.95it/s]\n",
      "100%|██████████| 31/31 [00:07<00:00,  4.06it/s]\n",
      "100%|██████████| 74/74 [00:18<00:00,  3.96it/s]\n",
      "100%|██████████| 31/31 [00:07<00:00,  4.00it/s]\n",
      "100%|██████████| 74/74 [00:18<00:00,  3.92it/s]\n",
      "100%|██████████| 31/31 [00:07<00:00,  4.06it/s]\n",
      "100%|██████████| 74/74 [00:18<00:00,  3.96it/s]\n",
      "100%|██████████| 31/31 [00:07<00:00,  4.04it/s]\n",
      "100%|██████████| 74/74 [00:18<00:00,  3.93it/s]\n",
      "100%|██████████| 31/31 [00:07<00:00,  4.03it/s]\n",
      "100%|██████████| 74/74 [00:18<00:00,  3.94it/s]\n",
      "100%|██████████| 31/31 [00:07<00:00,  4.05it/s]\n",
      "100%|██████████| 74/74 [00:18<00:00,  3.96it/s]\n",
      "100%|██████████| 31/31 [00:07<00:00,  4.07it/s]\n",
      "100%|██████████| 74/74 [00:18<00:00,  3.95it/s]\n",
      "100%|██████████| 31/31 [00:07<00:00,  4.01it/s]\n",
      "100%|██████████| 74/74 [00:34<00:00,  2.17it/s]\n",
      "100%|██████████| 31/31 [00:07<00:00,  4.05it/s]\n",
      "100%|██████████| 74/74 [00:33<00:00,  2.19it/s]\n",
      "100%|██████████| 31/31 [00:07<00:00,  4.08it/s]\n",
      "100%|██████████| 74/74 [00:33<00:00,  2.19it/s]\n",
      "100%|██████████| 31/31 [00:07<00:00,  4.12it/s]\n",
      "100%|██████████| 74/74 [00:33<00:00,  2.19it/s]\n",
      "100%|██████████| 31/31 [00:07<00:00,  4.10it/s]\n",
      "100%|██████████| 74/74 [00:33<00:00,  2.19it/s]\n",
      "100%|██████████| 31/31 [00:07<00:00,  4.13it/s]\n",
      "100%|██████████| 74/74 [00:33<00:00,  2.19it/s]\n",
      "100%|██████████| 31/31 [00:07<00:00,  4.11it/s]\n",
      "100%|██████████| 74/74 [00:33<00:00,  2.19it/s]\n",
      "100%|██████████| 31/31 [00:07<00:00,  4.13it/s]\n",
      "100%|██████████| 74/74 [00:33<00:00,  2.18it/s]\n",
      "100%|██████████| 31/31 [00:07<00:00,  4.09it/s]\n",
      "100%|██████████| 74/74 [00:33<00:00,  2.19it/s]\n",
      "100%|██████████| 31/31 [00:07<00:00,  4.12it/s]\n",
      "100%|██████████| 74/74 [00:33<00:00,  2.19it/s]\n",
      "100%|██████████| 31/31 [00:07<00:00,  4.15it/s]\n"
     ]
    }
   ],
   "source": [
    "torch.cuda.empty_cache()\n",
    "\n",
    "freeze = [True, False]\n",
    "\n",
    "for f in freeze:\n",
    "    freeze_test = VeryModel(freeze_body=f)\n",
    "    opt = torch.optim.SGD(freeze_test.parameters(), lr=LEARNING_RATE)\n",
    "    freeze_trainer = Trainer(freeze_test, opt, trainset, valset, batch_size=128, \n",
    "                  tboard_log_dir = \"./freeze_test/\" + \"freeze_\" + str(f))\n",
    "    freeze_trainer.train(10)"
   ]
  },
  {
   "cell_type": "code",
   "execution_count": 131,
   "metadata": {
    "id": "LaFwC2RqnhvL"
   },
   "outputs": [],
   "source": [
    "# %tensorboard --logdir ./freeze_test"
   ]
  },
  {
   "cell_type": "markdown",
   "metadata": {
    "id": "gsoVK8Rrnoww"
   },
   "source": [
    "### Задание 6 (бонус)\n",
    "**(0.2 балла, бонус)** Покажите на каких классах лучшая сеть ошибается сильнее всего.\n",
    "\n",
    "*Requirement:* выведите матрицу ошибок в виде heatmap."
   ]
  },
  {
   "cell_type": "code",
   "execution_count": 119,
   "metadata": {
    "colab": {
     "base_uri": "https://localhost:8080/"
    },
    "id": "fm2P5sdh7OFd",
    "outputId": "0cbe072f-318a-49a2-d220-1c1de7e21719"
   },
   "outputs": [
    {
     "name": "stderr",
     "output_type": "stream",
     "text": [
      "100%|██████████| 3925/3925 [00:24<00:00, 160.88it/s]\n"
     ]
    }
   ],
   "source": [
    "torch.cuda.empty_cache()\n",
    "device = torch.cuda.current_device()\n",
    "\n",
    "val_loader = DataLoader(valset, batch_size=1)\n",
    "\n",
    "predicted_labels = []\n",
    "true_labels = []\n",
    "\n",
    "model.eval()\n",
    "\n",
    "for batch in tqdm(val_loader):\n",
    "    torch.cuda.empty_cache()\n",
    "    batch = {k: v.to(device) for k, v in batch.items()}\n",
    "    sample, label = batch[\"sample\"], batch[\"label\"]\n",
    "    predicted_labels.append(np.argmax(model(sample).cpu().detach().numpy()))\n",
    "    true_labels.append(label.cpu().detach().numpy())"
   ]
  },
  {
   "cell_type": "code",
   "execution_count": 130,
   "metadata": {
    "colab": {
     "base_uri": "https://localhost:8080/",
     "height": 284
    },
    "id": "RqeHzysDBKzt",
    "outputId": "9316357a-e5d4-4707-e6ce-dc3da2b29223"
   },
   "outputs": [
    {
     "data": {
      "text/plain": [
       "<matplotlib.axes._subplots.AxesSubplot at 0x7f3ac234ac50>"
      ]
     },
     "execution_count": 130,
     "metadata": {
      "tags": []
     },
     "output_type": "execute_result"
    },
    {
     "data": {
      "image/png": "[encoded data removed]",
      "text/plain": [
       "<Figure size 432x288 with 2 Axes>"
      ]
     },
     "metadata": {
      "needs_background": "light",
      "tags": []
     },
     "output_type": "display_data"
    }
   ],
   "source": [
    "sns.heatmap(confusion_matrix(true_labels, predicted_labels), cmap=\"YlGnBu\")"
   ]
  },
  {
   "cell_type": "code",
   "execution_count": 124,
   "metadata": {
    "colab": {
     "base_uri": "https://localhost:8080/"
    },
    "id": "OvvXBeSlBru5",
    "outputId": "eb5802ed-1ece-430f-825b-0ffff997cf38"
   },
   "outputs": [
    {
     "data": {
      "text/plain": [
       "array([[377,   4,   0,   2,   2,   4,   0,   0,   0,   0],\n",
       "       [  5, 357,   1,   2,   5,   0,   3,   5,   2,   6],\n",
       "       [  1,   4, 386,   0,   0,   0,   2,   1,   1,   0],\n",
       "       [  8,  14,   0, 383,   9,   1,   0,   0,   1,   3],\n",
       "       [  1,   4,   1,   7, 340,   1,   1,   0,   1,   1],\n",
       "       [  3,   1,   0,   3,   2, 397,   0,   3,   0,   0],\n",
       "       [  0,   6,   0,   1,   0,   0, 379,   1,   0,   0],\n",
       "       [  1,   4,   2,   1,   0,   2,   4, 375,   0,   1],\n",
       "       [  0,   2,   0,   0,   4,   1,   3,   4, 383,   2],\n",
       "       [  2,  13,   0,   2,   2,   0,   6,   1,   0, 368]])"
      ]
     },
     "execution_count": 124,
     "metadata": {
      "tags": []
     },
     "output_type": "execute_result"
    }
   ],
   "source": [
    "# на картинке совсем плохо видно, но хуже всего дела со вторым классом - это собачки\n",
    "confusion_matrix(true_labels, predicted_labels)"
   ]
  },
  {
   "cell_type": "code",
   "execution_count": null,
   "metadata": {
    "id": "MHkFyPuQCiRI"
   },
   "outputs": [],
   "source": []
  }
 ],
 "metadata": {
  "accelerator": "GPU",
  "colab": {
   "name": "homework.ipynb",
   "provenance": []
  },
  "kernelspec": {
   "display_name": "Python 3",
   "language": "python",
   "name": "python3"
  },
  "language_info": {
   "codemirror_mode": {
    "name": "ipython",
    "version": 3
   },
   "file_extension": ".py",
   "mimetype": "text/x-python",
   "name": "python",
   "nbconvert_exporter": "python",
   "pygments_lexer": "ipython3",
   "version": "3.8.3"
  },
  "widgets": {
   "application/vnd.jupyter.widget-state+json": {
    "0e8e57b0e87445c99c39f80a2f061802": {
     "model_module": "@jupyter-widgets/controls",
     "model_name": "HTMLModel",
     "state": {
      "_dom_classes": [],
      "_model_module": "@jupyter-widgets/controls",
      "_model_module_version": "1.5.0",
      "_model_name": "HTMLModel",
      "_view_count": null,
      "_view_module": "@jupyter-widgets/controls",
      "_view_module_version": "1.5.0",
      "_view_name": "HTMLView",
      "description": "",
      "description_tooltip": null,
      "layout": "IPY_MODEL_65d03403338e4bd0a5dd36b81a77c95a",
      "placeholder": "​",
      "style": "IPY_MODEL_1158a101d7fd4a30a4e91e5be51c4d52",
      "value": " 44.7M/44.7M [00:00&lt;00:00, 79.9MB/s]"
     }
    },
    "1158a101d7fd4a30a4e91e5be51c4d52": {
     "model_module": "@jupyter-widgets/controls",
     "model_name": "DescriptionStyleModel",
     "state": {
      "_model_module": "@jupyter-widgets/controls",
      "_model_module_version": "1.5.0",
      "_model_name": "DescriptionStyleModel",
      "_view_count": null,
      "_view_module": "@jupyter-widgets/base",
      "_view_module_version": "1.2.0",
      "_view_name": "StyleView",
      "description_width": ""
     }
    },
    "14686fb946e343c09b0f24be2a776511": {
     "model_module": "@jupyter-widgets/controls",
     "model_name": "FloatProgressModel",
     "state": {
      "_dom_classes": [],
      "_model_module": "@jupyter-widgets/controls",
      "_model_module_version": "1.5.0",
      "_model_name": "FloatProgressModel",
      "_view_count": null,
      "_view_module": "@jupyter-widgets/controls",
      "_view_module_version": "1.5.0",
      "_view_name": "ProgressView",
      "bar_style": "success",
      "description": "100%",
      "description_tooltip": null,
      "layout": "IPY_MODEL_fed5849b257b4dbaa5ea288b59e47094",
      "max": 46827520,
      "min": 0,
      "orientation": "horizontal",
      "style": "IPY_MODEL_b7fa14c4f683456bad48a942206392e0",
      "value": 46827520
     }
    },
    "24ed7a9139604fcd82aad659ae817e5d": {
     "model_module": "@jupyter-widgets/controls",
     "model_name": "HBoxModel",
     "state": {
      "_dom_classes": [],
      "_model_module": "@jupyter-widgets/controls",
      "_model_module_version": "1.5.0",
      "_model_name": "HBoxModel",
      "_view_count": null,
      "_view_module": "@jupyter-widgets/controls",
      "_view_module_version": "1.5.0",
      "_view_name": "HBoxView",
      "box_style": "",
      "children": [
       "IPY_MODEL_14686fb946e343c09b0f24be2a776511",
       "IPY_MODEL_0e8e57b0e87445c99c39f80a2f061802"
      ],
      "layout": "IPY_MODEL_6ef38eeac5e44a8082b2068d51d94757"
     }
    },
    "65d03403338e4bd0a5dd36b81a77c95a": {
     "model_module": "@jupyter-widgets/base",
     "model_name": "LayoutModel",
     "state": {
      "_model_module": "@jupyter-widgets/base",
      "_model_module_version": "1.2.0",
      "_model_name": "LayoutModel",
      "_view_count": null,
      "_view_module": "@jupyter-widgets/base",
      "_view_module_version": "1.2.0",
      "_view_name": "LayoutView",
      "align_content": null,
      "align_items": null,
      "align_self": null,
      "border": null,
      "bottom": null,
      "display": null,
      "flex": null,
      "flex_flow": null,
      "grid_area": null,
      "grid_auto_columns": null,
      "grid_auto_flow": null,
      "grid_auto_rows": null,
      "grid_column": null,
      "grid_gap": null,
      "grid_row": null,
      "grid_template_areas": null,
      "grid_template_columns": null,
      "grid_template_rows": null,
      "height": null,
      "justify_content": null,
      "justify_items": null,
      "left": null,
      "margin": null,
      "max_height": null,
      "max_width": null,
      "min_height": null,
      "min_width": null,
      "object_fit": null,
      "object_position": null,
      "order": null,
      "overflow": null,
      "overflow_x": null,
      "overflow_y": null,
      "padding": null,
      "right": null,
      "top": null,
      "visibility": null,
      "width": null
     }
    },
    "6ef38eeac5e44a8082b2068d51d94757": {
     "model_module": "@jupyter-widgets/base",
     "model_name": "LayoutModel",
     "state": {
      "_model_module": "@jupyter-widgets/base",
      "_model_module_version": "1.2.0",
      "_model_name": "LayoutModel",
      "_view_count": null,
      "_view_module": "@jupyter-widgets/base",
      "_view_module_version": "1.2.0",
      "_view_name": "LayoutView",
      "align_content": null,
      "align_items": null,
      "align_self": null,
      "border": null,
      "bottom": null,
      "display": null,
      "flex": null,
      "flex_flow": null,
      "grid_area": null,
      "grid_auto_columns": null,
      "grid_auto_flow": null,
      "grid_auto_rows": null,
      "grid_column": null,
      "grid_gap": null,
      "grid_row": null,
      "grid_template_areas": null,
      "grid_template_columns": null,
      "grid_template_rows": null,
      "height": null,
      "justify_content": null,
      "justify_items": null,
      "left": null,
      "margin": null,
      "max_height": null,
      "max_width": null,
      "min_height": null,
      "min_width": null,
      "object_fit": null,
      "object_position": null,
      "order": null,
      "overflow": null,
      "overflow_x": null,
      "overflow_y": null,
      "padding": null,
      "right": null,
      "top": null,
      "visibility": null,
      "width": null
     }
    },
    "b7fa14c4f683456bad48a942206392e0": {
     "model_module": "@jupyter-widgets/controls",
     "model_name": "ProgressStyleModel",
     "state": {
      "_model_module": "@jupyter-widgets/controls",
      "_model_module_version": "1.5.0",
      "_model_name": "ProgressStyleModel",
      "_view_count": null,
      "_view_module": "@jupyter-widgets/base",
      "_view_module_version": "1.2.0",
      "_view_name": "StyleView",
      "bar_color": null,
      "description_width": "initial"
     }
    },
    "fed5849b257b4dbaa5ea288b59e47094": {
     "model_module": "@jupyter-widgets/base",
     "model_name": "LayoutModel",
     "state": {
      "_model_module": "@jupyter-widgets/base",
      "_model_module_version": "1.2.0",
      "_model_name": "LayoutModel",
      "_view_count": null,
      "_view_module": "@jupyter-widgets/base",
      "_view_module_version": "1.2.0",
      "_view_name": "LayoutView",
      "align_content": null,
      "align_items": null,
      "align_self": null,
      "border": null,
      "bottom": null,
      "display": null,
      "flex": null,
      "flex_flow": null,
      "grid_area": null,
      "grid_auto_columns": null,
      "grid_auto_flow": null,
      "grid_auto_rows": null,
      "grid_column": null,
      "grid_gap": null,
      "grid_row": null,
      "grid_template_areas": null,
      "grid_template_columns": null,
      "grid_template_rows": null,
      "height": null,
      "justify_content": null,
      "justify_items": null,
      "left": null,
      "margin": null,
      "max_height": null,
      "max_width": null,
      "min_height": null,
      "min_width": null,
      "object_fit": null,
      "object_position": null,
      "order": null,
      "overflow": null,
      "overflow_x": null,
      "overflow_y": null,
      "padding": null,
      "right": null,
      "top": null,
      "visibility": null,
      "width": null
     }
    }
   }
  }
 },
 "nbformat": 4,
 "nbformat_minor": 1
}
