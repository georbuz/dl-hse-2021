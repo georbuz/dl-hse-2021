{
 "cells": [
  {
   "cell_type": "markdown",
   "metadata": {},
   "source": [
    "# NN training\n",
    "\n",
    "[![Open In Colab](https://colab.research.google.com/assets/colab-badge.svg)](https://colab.research.google.com/github/m12sl/dl-hse-2021/blob/master/03-training/homework.ipynb)\n",
    "\n",
    "В этой тетрадке мы решим нашу первую серьезную задачу - [Imagenette](https://github.com/fastai/imagenette#imagenette-1) \n",
    "(сабсет ImageNet) и поиграем с подбором гиперпараметров.\n",
    "\n",
    "**Всегда поможет:**\n",
    "\n",
    "* [PyTorch docs](https://pytorch.org/docs/stable/index.html)"
   ]
  },
  {
   "cell_type": "code",
   "execution_count": null,
   "metadata": {},
   "outputs": [],
   "source": [
    "# import torch\n",
    "# import torch.nn as nn\n",
    "# import torch.nn.functional as F\n",
    "from torch.utils.data import Dataset, DataLoader"
   ]
  },
  {
   "cell_type": "markdown",
   "metadata": {},
   "source": [
    "# Data\n",
    "\n",
    "Для обучения мы будем использовать облегченную версию датасета Imagenette с минимальной стороной равной 160 пикселям.  \n",
    "Следующие две ячейки должны скачать и распаковать данные, после чего в текущей директории появится \n",
    "директория `imagenette2-160` со следующей структурой:\n",
    "\n",
    "- ./imagenette2-160/\n",
    "    - train/\n",
    "        - {CLASS_ID}/{IMAGE_ID}.jpeg\n",
    "    - val/\n",
    "        - {CLASS_ID}/{IMAGE_ID}.jpeg"
   ]
  },
  {
   "cell_type": "code",
   "execution_count": null,
   "metadata": {},
   "outputs": [],
   "source": [
    "# download tar archive\n",
    "\n",
    "! wget https://s3.amazonaws.com/fast-ai-imageclas/imagenette2-160.tgz"
   ]
  },
  {
   "cell_type": "code",
   "execution_count": null,
   "metadata": {},
   "outputs": [],
   "source": [
    "# extract files from archive\n",
    "\n",
    "! tar -zxf imagenette2-160.tgz"
   ]
  },
  {
   "cell_type": "markdown",
   "metadata": {},
   "source": [
    "## Задание 1\n",
    "**(0.2 балла)** Напишите класс `ImagenetteDataset`, который мы будем использовать для обучения сетки.  \n",
    "\n",
    "*Hints:* \n",
    "\n",
    "1. Нужно унаследоваться от класса `Dataset` и переопределить методы `__getitem__` и `__len__`. \n",
    "Первый должен возвращать картинку и ее лейбл, а второй количество примеров в датасете.\n",
    "(На самом деле второй метод не обязателен для самого датасета, но он необходим для\n",
    "[семплера](https://pytorch.org/docs/stable/data.html#torch.utils.data.RandomSampler),\n",
    "который используется даталоадером)\n",
    "(см. [PyTorch docs](https://pytorch.org/docs/stable/data.html#torch.utils.data.Dataset),\n",
    "[PyTorch tutorual](https://pytorch.org/tutorials/recipes/recipes/custom_dataset_transforms_loader.html?highlight=dataset)).\n",
    "1. Для работы с картинками лучше использовать OpenCV: `pip install opencv-python-headless`.\n",
    "1. Обратите внимание на то, что возвращает функция `cv2.imread`. \n",
    "Какой порядок каналов в полученном массиве?\n",
    "1. В батче не может быть тензоров разного размера."
   ]
  },
  {
   "cell_type": "code",
   "execution_count": null,
   "metadata": {},
   "outputs": [],
   "source": [
    "class ImagenetteDataset(Dataset):\n",
    "    def __init__(self):\n",
    "        pass\n",
    "\n",
    "    def __len__(self):\n",
    "        pass\n",
    "    \n",
    "    def __getitem__(self, index):\n",
    "        pass"
   ]
  },
  {
   "cell_type": "code",
   "execution_count": null,
   "metadata": {},
   "outputs": [],
   "source": []
  },
  {
   "cell_type": "markdown",
   "metadata": {},
   "source": [
    "## Задание 2\n",
    "**(0.1 балла)** Перенесите свой класс `Trainer` и создайте его инстанс.\n",
    "\n",
    "*Hints:*\n",
    "\n",
    "1. Можете взять любую архитектуру сети из предыдущей домашки/семинара или из `torchvision.models`: \n",
    "[link](https://pytorch.org/vision/stable/models.html#classification)"
   ]
  },
  {
   "cell_type": "code",
   "execution_count": null,
   "metadata": {},
   "outputs": [],
   "source": []
  },
  {
   "cell_type": "markdown",
   "metadata": {},
   "source": [
    "## Задание 3\n",
    "**(0.1 балла)** Проведите LR Range Test и выберите LR в оптимальных границах.\n",
    "\n",
    "*Requirement:* график в осях LR - loss должен быть в аутпуте ячейки."
   ]
  },
  {
   "cell_type": "code",
   "execution_count": null,
   "metadata": {},
   "outputs": [],
   "source": []
  },
  {
   "cell_type": "markdown",
   "metadata": {},
   "source": [
    "## Задание 4\n",
    "**(0.2 балла)** Обучите сеть с выбранным LR. Остальные гиперпараметры выберите по своему усмотрению.\n",
    "\n",
    "*Requirements:*\n",
    "1. Логи экспериментов должен быть в отдельных папках, чтобы их можно было сравнить в тензорборде\n",
    "(см. аргумент `log_dir` в [docs](https://pytorch.org/docs/stable/tensorboard.html#torch.utils.tensorboard.writer.SummaryWriter)).\n",
    "1. Метрика `Accuracy`.\n",
    "1. На этапе валидации метрика должна считаться по всем валидационным объектам, а не отдельно по каждому батчу. \n",
    "В тензорборде после валидации должна появиться одна точка."
   ]
  },
  {
   "cell_type": "code",
   "execution_count": null,
   "metadata": {},
   "outputs": [],
   "source": []
  },
  {
   "cell_type": "markdown",
   "metadata": {},
   "source": [
    "## Задание 5\n",
    "**(0.4+ балла)** Попробуйте различные гиперпараметры при обучении. Что дает набольший эффект?  \n",
    "За каждый эксперимент с гиперпараметром из списка дается 0.1 балл:\n",
    "\n",
    "1. Optimizer: adam, sgd, etc.\n",
    "1. Batch size.\n",
    "1. LR scheduler.\n",
    "1. Freeze weights. Если вы используете предобученную сеть, то попробуйте заморозить тушку (body) и обучать только голову.\n",
    "1. Weight initialization: zeros, ones, normal, uniform, etc.\n",
    "\n",
    "*Requirement:* сделайте скриншот тензорборда (несколько, если считаете нужным) с кривыми обучения\n",
    "(лоссы/метрики на трейне/валидации) проведенных экспериментов и приложите вместе с готовым ноутбуком в anytask.\n",
    "Из скриншота должно быть понятно в чем заключался эксперимент и как проходило обучение.\n",
    "\n",
    "*Hint 1:* не меняйте несколько гиперпараметров в одном эксперименте - так непонятно какой из них сыграл.  \n",
    "*Hint 2:* для заморозки весов, нужно пробежать по параметрам и поставить флаг `param.requires_grad = False` \n",
    "(см. [PyTorch discuss](https://discuss.pytorch.org/t/how-the-pytorch-freeze-network-in-some-layers-only-the-rest-of-the-training/7088/2)).  \n",
    "*Hint 3:* для инициализации придется итерироваться по параметрам. \n",
    "Менять их значения можно с помощью уже готовых функций: [PyTorch docs](https://pytorch.org/docs/stable/nn.init.html?highlight=init)."
   ]
  },
  {
   "cell_type": "code",
   "execution_count": null,
   "metadata": {},
   "outputs": [],
   "source": []
  },
  {
   "cell_type": "markdown",
   "metadata": {},
   "source": [
    "## Задание 6 (бонус)\n",
    "**(0.2 балла, бонус)** Покажите на каких классах лучшая сеть ошибается сильнее всего.\n",
    "\n",
    "*Requirement:* выведите матрицу ошибок в виде heatmap."
   ]
  },
  {
   "cell_type": "code",
   "execution_count": null,
   "metadata": {},
   "outputs": [],
   "source": []
  }
 ],
 "metadata": {
  "kernelspec": {
   "display_name": "Python 3",
   "language": "python",
   "name": "python3"
  },
  "language_info": {
   "codemirror_mode": {
    "name": "ipython",
    "version": 3
   },
   "file_extension": ".py",
   "mimetype": "text/x-python",
   "name": "python",
   "nbconvert_exporter": "python",
   "pygments_lexer": "ipython3",
   "version": "3.8.5"
  }
 },
 "nbformat": 4,
 "nbformat_minor": 4
}